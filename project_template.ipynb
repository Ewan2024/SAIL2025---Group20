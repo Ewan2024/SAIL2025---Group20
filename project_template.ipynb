{
 "cells": [
  {
   "cell_type": "markdown",
   "metadata": {},
   "source": [
    "# Project Group - 20 \n",
    "\n",
    "Members: \n",
    "\n",
    "1. Sheikh Arfahmi Bin Sheikh Arzimi\n",
    "\n",
    "2. Ewan Brett\n",
    "\n",
    "3. Cedric Nissen\n",
    "\n",
    "4. Nills Hollnagel\n",
    "\n",
    "5. Luka Rehviašvili\n",
    "\n",
    "Student numbers: \n",
    "\n",
    "1. 6452868\n",
    "\n",
    "2. 6525318\n",
    "\n",
    "3. 6560733\n",
    "\n",
    "4. 6540848\n",
    "\n",
    "5. 6299318"
   ]
  },
  {
   "cell_type": "markdown",
   "metadata": {},
   "source": [
    "# Research Objective\n",
    "\n",
    "To develop an interactive dashboard that aids effective crowd flow management for the SAIL2025 event in Amsterdam."
   ]
  },
  {
   "cell_type": "markdown",
   "metadata": {},
   "source": [
    "# Introduction \n",
    "\n",
    "Effective crowd management is essential to ensure public safety and improve visitors’ experience at large-scale events such as SAIL 2025 in Amsterdam. Without sufficient crowd monitoring, crowd managers may lack oversight of crowd densities, potentially increasing the risk of overcrowding and related safety incidents. Past tragedies, such as the Seoul Halloween Parade in 2022, Houston’s Astroworld Festival in 2021 and Germany’s Love Parade in 2010, underscore the importance of proactive crowd monitoring and prediction systems. This project, therefore, aims to develop an interactive dashboard that serves to aid the SAIL Crowd Monitoring Team (CMT) in making informed decisions in real-time to manage crowd levels effectively and efficiently. Beyond SAIL, this dashboard could also be a modular tool which can be implemented by other large-scale event organisers worldwide. This project is also part of the broader crowd management strategy and will be integrated with physical control measures to form a holistic solution to crowd management challenges. "
   ]
  },
  {
   "cell_type": "markdown",
   "metadata": {},
   "source": [
    "# Contribution Statement\n",
    "\n",
    "*Be specific. Some of the tasks can be coding (expect everyone to do this), background research, conceptualisation, visualisation, data analysis, data modelling*"
   ]
  },
  {
   "cell_type": "markdown",
   "metadata": {},
   "source": [
    "**Author 1: Sheikh **: Future Crowd Flow Prediction (ML Module)\n",
    "\n",
    "**Author 2: Nils **: User Authentication & Security \n",
    "\n",
    "**Author 3: Cedric **: Reports, Settings & Multi-User Management\n",
    "\n",
    "**Author 4: Ewan **: Visualization / Dashboard Interface\n",
    "\n",
    "**Author 5: Luka **: Current Crowd Flow Data Pipeline"
   ]
  },
  {
   "cell_type": "markdown",
   "metadata": {},
   "source": [
    "# Data Used\n",
    "\n",
    "## Confirmed Datasets\n",
    "\n",
    "1.\tCrowd flow (based on sensor counts)\n",
    "\n",
    "    •\tNumber of sensors: 46 locations, bidirectional\n",
    "\n",
    "    •\tRefresh rate: Every 3 minutes\n",
    "\n",
    "2.\tSAIL Event timetable (https://www.sail.nl/programma-en-plattegrond)\n",
    "\n",
    "3.\tGeospatial Information of Sail 2025 Area (OpenStreetMaps, ArcGIS)\n",
    "\n",
    "## Potential Datasets (Pending Requests)\n",
    "\n",
    "1.\tVessel position\n",
    "\n",
    "2.\tPositions of traffic marshals\n",
    "\n",
    "3.\tNS Train (live) Timetables (https://ndovloket.nl/index.html) \n",
    "\n",
    "4.\tGVB (live) Timetables - Metros, Trams, Buses (https://ndovloket.nl/index.html) \n",
    "\n",
    "5.\tMeteorological data (based on KNMI data, alternative https://www.wunderground.com/history/weekly/nl/schiphol/EHAM/date/2025-8-20 copy to Excel and export as CSV)\n",
    "\n"
   ]
  },
  {
   "cell_type": "markdown",
   "metadata": {},
   "source": []
  },
  {
   "cell_type": "markdown",
   "metadata": {},
   "source": [
    "# Data Pipeline\n",
    "\n",
    "1.\tData Ingestion \n",
    "\n",
    "    •\tUsage of confirmed datasets listed above. \n",
    "\n",
    "    •\tIn case access is granted, the above listed “potential datasets” will also be considered.\n",
    "\n",
    "2.\tData Processing/Transformation \n",
    "\n",
    "    •\tCompile all the data into a time-series pandas DataFrames, for easy reading, updating and plotting.\n",
    "\n",
    "    •\tClean and standardise data to ensure consistency across sources.\n",
    "\n",
    "3.\tData Storage \n",
    "\n",
    "    •\tStore all data on shared drives that are backed up on university servers – OneDrive.\n",
    "\n",
    "    •\tHave a redundant version of the data, in case a file becomes corrupted and unusable. \n",
    "\n",
    "4.\tData Analysis & Prediction \n",
    "\n",
    "    •\tAnalysis of the retrieved data \n",
    "\n",
    "            i.\tCleaning\n",
    "\n",
    "            ii.\tRemoving the duplicates \n",
    "\n",
    "            iii. Making sure there are no inconsistencies\n",
    "\n",
    "            iv.\tBias checks\n",
    "\n",
    "                1.\tInspect the representation across key groups \n",
    "\n",
    "                2.\tCheck missingness, errors and label quality by group\n",
    "\n",
    "    •\tThe usage of the appropriate data analysis tool (Python and Excel (in case of))\n",
    "\n",
    "    •\tPrediction will be based on the need and the initial results\n",
    "\n",
    "5.\tData Visualisation & Delivery\n",
    "\n",
    "    •\tDeliver dashboard as a Web Application using streamlit\n",
    "\n",
    "    •\tDisplay interactive maps, charts and tables based on the preference of the CMT, adapting the view based on size and category of the dataset respectively.\n"
   ]
  },
  {
   "cell_type": "markdown",
   "metadata": {},
   "source": []
  }
 ],
 "metadata": {
  "kernelspec": {
   "display_name": "TIL6022-25",
   "language": "python",
   "name": "python3"
  },
  "language_info": {
   "codemirror_mode": {
    "name": "ipython",
    "version": 3
   },
   "file_extension": ".py",
   "mimetype": "text/x-python",
   "name": "python",
   "nbconvert_exporter": "python",
   "pygments_lexer": "ipython3",
   "version": "3.13.5"
  },
  "orig_nbformat": 4
 },
 "nbformat": 4,
 "nbformat_minor": 2
}
