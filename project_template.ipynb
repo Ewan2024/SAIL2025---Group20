{
 "cells": [
  {
   "cell_type": "markdown",
   "metadata": {},
   "source": [
    "# Project Group - \n",
    "\n",
    "Members: \n",
    "\n",
    "1. Sheikh Arfahmi Bin Sheikh Arzimi\n",
    "\n",
    "2. Ewan Brett\n",
    "\n",
    "3. Cedric Nissen\n",
    "\n",
    "4. Nills Hollnagel\n",
    "\n",
    "5. Luka Rehviašvili\n",
    "\n",
    "Student numbers: \n",
    "\n",
    "1. 6452868\n",
    "\n",
    "2. 6525318\n",
    "\n",
    "3. 6560733\n",
    "\n",
    "4. 6540848\n",
    "\n",
    "5. 6299318"
   ]
  },
  {
   "cell_type": "markdown",
   "metadata": {},
   "source": [
    "# Research Objective\n",
    "\n",
    "*Requires data modeling and quantitative research in Transport, Infrastructure & Logistics*"
   ]
  },
  {
   "cell_type": "markdown",
   "metadata": {},
   "source": [
    "Research Objective:\n",
    "\n",
    "To develop effective methods for processing and visualizing quantitative crowd data to support crowd management during SAIL Amsterdam."
   ]
  },
  {
   "cell_type": "markdown",
   "metadata": {},
   "source": [
    "# Contribution Statement\n",
    "\n",
    "*Be specific. Some of the tasks can be coding (expect everyone to do this), background research, conceptualisation, visualisation, data analysis, data modelling*"
   ]
  },
  {
   "cell_type": "markdown",
   "metadata": {},
   "source": [
    "**Author 1**:\n",
    "\n",
    "**Author 2**:\n",
    "\n",
    "**Author 3**:"
   ]
  },
  {
   "cell_type": "markdown",
   "metadata": {},
   "source": [
    "# Data Used"
   ]
  },
  {
   "cell_type": "markdown",
   "metadata": {},
   "source": [
    "1. Sensor Data of passenger traffic \n",
    "- Number of sensors: 46 locations, bidirectional\n",
    "- Refresh rate: Every 3 minutes,\n",
    "\n",
    "2. SAIL Event timetable \n",
    "\n",
    "3. Weather Data \n",
    "\n",
    "4. Geospatial Information \n",
    "\n",
    "5. *NS Train (live) Timetables\n",
    "\n",
    "6. *GVB (live) Timetables - Metros, Trams, Buses \n",
    "\n",
    "7. \n"
   ]
  },
  {
   "cell_type": "markdown",
   "metadata": {},
   "source": [
    "# Data Pipeline"
   ]
  },
  {
   "cell_type": "markdown",
   "metadata": {},
   "source": []
  }
 ],
 "metadata": {
  "kernelspec": {
   "display_name": "Python 3",
   "language": "python",
   "name": "python3"
  },
  "language_info": {
   "name": "python",
   "version": "3.8.2"
  },
  "orig_nbformat": 4,
  "vscode": {
   "interpreter": {
    "hash": "31f2aee4e71d21fbe5cf8b01ff0e069b9275f58929596ceb00d14d90e3e16cd6"
   }
  }
 },
 "nbformat": 4,
 "nbformat_minor": 2
}
