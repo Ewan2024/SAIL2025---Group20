{
 "cells": [
  {
   "cell_type": "code",
   "execution_count": null,
   "id": "a19dd775",
   "metadata": {},
   "outputs": [],
   "source": [
    "# https://maps.amsterdam.nl/open_geodata/ go to Langzaam Verkeer Monitoringssysteem / \n",
    "# Read from API"
   ]
  }
 ],
 "metadata": {
  "language_info": {
   "name": "python"
  }
 },
 "nbformat": 4,
 "nbformat_minor": 5
}
