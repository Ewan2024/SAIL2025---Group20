{
 "cells": [
  {
   "cell_type": "code",
   "execution_count": 8,
   "id": "a19dd775",
   "metadata": {},
   "outputs": [],
   "source": [
    "# This data is from https://maps.amsterdam.nl/open_geodata/ go to Langzaam Verkeer Monitoringssysteem / \n"
   ]
  },
  {
   "cell_type": "code",
   "execution_count": 11,
   "id": "7a88dc2d",
   "metadata": {},
   "outputs": [
    {
     "name": "stdout",
     "output_type": "stream",
     "text": [
      "  Objectnummer        Soort                     Voeding  Rotatie Actief  \\\n",
      "0      GAWW-03    Telcamera  Eigen voeding via lichtnet      115    Nee   \n",
      "1      GAWW-03  WiFi sensor  Eigen voeding via lichtnet      115    Nee   \n",
      "2      GAWW-02  WiFi sensor  Eigen voeding via lichtnet      115    Nee   \n",
      "3      GAWW-02    Telcamera  Eigen voeding via lichtnet      115    Nee   \n",
      "4      GAWW-01  WiFi sensor  Eigen voeding via lichtnet        0    Nee   \n",
      "\n",
      "                                   Privacyverklaring                  geometry  \n",
      "0                                                     POINT (52.37251 4.89739)  \n",
      "1  https://www.amsterdam.nl/privacy/specifieke/pr...  POINT (52.37253 4.89733)  \n",
      "2  https://www.amsterdam.nl/privacy/specifieke/pr...  POINT (52.37381 4.89887)  \n",
      "3                                                      POINT (52.37379 4.8989)  \n",
      "4  https://www.amsterdam.nl/privacy/specifieke/pr...  POINT (52.37463 4.89976)  \n"
     ]
    }
   ],
   "source": [
    "import geopandas as gpd\n",
    "\n",
    "url = \"https://maps.amsterdam.nl/open_geodata/geojson_latlng.php?KAARTLAAG=CROWDSENSOREN&THEMA=lvma\"\n",
    "\n",
    "crowd_sensor_gdf = gpd.read_file(url)\n",
    "\n",
    "print(crowd_sensor_gdf.head())\n"
   ]
  },
  {
   "cell_type": "code",
   "execution_count": 13,
   "id": "98e00aac",
   "metadata": {},
   "outputs": [
    {
     "data": {
      "text/plain": [
       "array(['Telcamera', 'WiFi sensor', '3D sensor', 'Corona CMSA'],\n",
       "      dtype=object)"
      ]
     },
     "execution_count": 13,
     "metadata": {},
     "output_type": "execute_result"
    }
   ],
   "source": [
    "crowd_sensor_gdf[\"Soort\"].unique()"
   ]
  },
  {
   "cell_type": "code",
   "execution_count": 14,
   "id": "8814ed37",
   "metadata": {},
   "outputs": [
    {
     "data": {
      "text/plain": [
       "array(['Eigen voeding via lichtnet', 'Vaste spanning'], dtype=object)"
      ]
     },
     "execution_count": 14,
     "metadata": {},
     "output_type": "execute_result"
    }
   ],
   "source": [
    "crowd_sensor_gdf[\"Voeding\"].unique()"
   ]
  },
  {
   "cell_type": "code",
   "execution_count": 15,
   "id": "0de3bc16",
   "metadata": {},
   "outputs": [],
   "source": [
    "# Vaste spanning = Fixed Voltage \n",
    "# Eigen voeding via lichtnet = Own power supply via mains"
   ]
  },
  {
   "cell_type": "code",
   "execution_count": 16,
   "id": "a5f3cc82",
   "metadata": {},
   "outputs": [
    {
     "data": {
      "text/plain": [
       "array(['Nee', 'Ja'], dtype=object)"
      ]
     },
     "execution_count": 16,
     "metadata": {},
     "output_type": "execute_result"
    }
   ],
   "source": [
    "crowd_sensor_gdf[\"Actief\"].unique()"
   ]
  },
  {
   "cell_type": "code",
   "execution_count": 21,
   "id": "23609536",
   "metadata": {},
   "outputs": [
    {
     "name": "stdout",
     "output_type": "stream",
     "text": [
      "GAWW-03\n",
      "GAWW-03\n",
      "GAWW-02\n",
      "GAWW-02\n",
      "GAWW-01\n",
      "GAWW-01\n",
      "GAWW-05\n",
      "GAWW-08\n",
      "GAWW-10\n",
      "GAWW-06\n",
      "GAWW-06\n",
      "GAWW-04\n",
      "GAWW-04\n",
      "GAWW-07\n",
      "GAWW-07\n",
      "GAWW-09\n",
      "GAKW-01\n",
      "GAKW-02\n",
      "GAKW-03\n",
      "GAKW-05\n",
      "GAKW-04\n",
      "GAKW-02\n",
      "GAKW-01\n",
      "GAKW-02\n",
      "GABW-03\n",
      "GABW-04\n",
      "GABW-06\n",
      "GABW-02\n",
      "GABW-01\n",
      "GAAB-07\n",
      "GABW-05\n",
      "GAAB-07\n",
      "GAAB-01-01\n",
      "GAAB-01-02\n",
      "GAAB-01-01\n",
      "GAAB-01-02\n",
      "GAAB-10\n",
      "GAAB-11\n",
      "GAAB-13\n",
      "GAAB-13\n",
      "GAAB-08\n",
      "GAAB-08\n",
      "GAAB-02\n",
      "GAAB-03\n",
      "GAAB-03\n",
      "GAAB-09\n",
      "GAAB-04\n",
      "GAAB-04\n",
      "GAAB-05\n",
      "GAAB-05\n",
      "GAAB-06\n",
      "GAAB-06\n",
      "GVCV01\n",
      "GVCV02\n",
      "CMSA-GVCV04\n",
      "GVCV03\n",
      "GAKW-05\n",
      "GAKS-06\n",
      "GAKW-04\n",
      "GAWW-13\n",
      "GAWW-14\n",
      "GAWW-15\n",
      "GAWW-16\n",
      "GAWW-17\n",
      "GAWW-18\n",
      "GAWW-19\n",
      "GAWW-11\n",
      "CMSA-GAVM-02-1\n",
      "CMSA-GAVM-02-2\n",
      "CMSA-GAVM-05-1\n",
      "CMSA-GAVM-05-2\n",
      "CMSA-GAAM-01-2\n",
      "CMSA-GAAM-01-1\n",
      "CMSA-GVCV-06-Azartplein\n",
      "CMSA-GVCV-07-PontsteigerN\n",
      "CMSA-GVCV-08-PontsteigerZ\n",
      "CMSA-GAABM-02\n",
      "CMSA-GAABM-03\n",
      "CMSA-GAABM-04\n",
      "CMSA-GAABM-05\n",
      "CMSA-GABM-01\n",
      "CMSA-GABM-02\n",
      "CMSA-GABM-03\n",
      "CMSA-GABM-04\n",
      "CMSA-GABM-05\n",
      "CMSA-GAVM-06\n",
      "CMSA-GAVM-01-1\n",
      "CMSA-GAVM-01-2\n",
      "CMSA-GAVM-03-1\n",
      "CMSA-GAVM-03-2\n",
      "CMSA-GAVM-04-1\n",
      "CMSA-GAVM-04-2\n",
      "CMSA-GACM-04-1\n",
      "CMSA-GACM-04-2\n",
      "CMSA-GACM-01\n",
      "CMSA-GACM-03\n",
      "CMSA-GADM-01-1\n",
      "CMSA-GABM-06\n",
      "CMSA-GVCV04.1\n",
      "CMSA-GAMM-01\n",
      "CMSA-GAWW-20\n",
      "CMSA-GAWW-24\n",
      "CMSA-GAWW-23\n",
      "CMSA-GAWW-22\n",
      "CMSA-GAWW-21\n",
      "CMSA-GASZ-02-1\n",
      "CMSA-GASZ-02-2\n",
      "CMSA-GASZ-01-1\n",
      "CMSA-GASZ-01-2\n",
      "CMSA-GAKH-01\n",
      "CMSA-GAWW-12\n",
      "CMSA-GJEM-02-1\n",
      "CMSA-GJEM-02-2\n",
      "CMSA-GJEM-02-3\n",
      "CMSA-GJEM-01-1 \n",
      "CMSA-GJEM-01-2\n",
      "CMSA-GJEM-01-3\n",
      "CMSA-GJEM-03-1\n",
      "CMSA-GJEM-03-2\n",
      "CMSA-GJEM-04-1\n",
      "CMSA-GJEM-04-2\n",
      "CMSA-GVCV05\n",
      "CMSA-GACTO-PL4-01\n",
      "CMSA-GAWP-02\n",
      "CMSA-GAWP-05-1\n",
      "CMSA-GAWP-05-2\n",
      "CMSA-GAWP-06\n",
      "CMSA-GAWP-09\n",
      "CMSA-GAWP-15\n",
      "CMSA-GAWP-16\n",
      "CMSA-GAWP-20\n",
      "CMSA-GACM-02\n",
      "CMSA-GVCV-05-A-IJpleinWest\n",
      "CMSA-GVCV-05-B-IJpleinOost\n",
      "CMSA-NDW-01\n",
      "CMSA-GASP-01-Noord\n",
      "CMSA-GASP-02-Zuid\n",
      "GVCV-09 Zeeburg\n",
      "GABP-01-West\n",
      "GABP-02-Oost\n",
      "GWKP-01-MarnixpleinNoord\n",
      "GWKP-02-MarnixpleinZuid\n",
      "GWKP-03-NoordermarktZuid\n",
      "GWKP-04-NoordermarktNoord\n",
      "GACP-01\n",
      "GACP-02\n",
      "GACP-03\n",
      "GASP-01-EduardVanBeinumstraat Oost\n",
      "GASP-02-MathijsVermeulenpad\n",
      "GASP-03-Spoorslag\n",
      "GASP-04-GMahlerplein\n",
      "GASP-05-EduardVanBeinumstraat West\n",
      "GASP-06-ClaudeDebussylaan\n",
      "GASP-07-ParnassuswegNoordOost\n",
      "GASP-08-ParnassuswegZuidOost\n",
      "GVCV-13\n",
      "GVCV-14\n",
      "GVCV-11\n",
      "GARP-01-Sloterdijk\n",
      "GARP-02-Sloterdijk\n",
      "GARP-03-B-Sloterdijk\n",
      "GARP-03-A-Sloterdijk\n",
      "GARP-04-StationZuid\n",
      "GARP-05-StationZuid\n",
      "GASA-06-B\n",
      "GASA-01-A1\n",
      "GASA-01-A2\n",
      "GASA-01-B\n",
      "GASA-01-C\n",
      "GASA-02-01\n",
      "GASA-02-02\n",
      "GASA-03\n",
      "GASA-04\n",
      "GASA-05-O\n",
      "GASA-05-W\n"
     ]
    }
   ],
   "source": [
    "for i in crowd_sensor_gdf[\"Objectnummer\"]:\n",
    "    print(i)"
   ]
  },
  {
   "cell_type": "code",
   "execution_count": 17,
   "id": "a3e3416c",
   "metadata": {},
   "outputs": [],
   "source": [
    "def load_crowd_sensor():\n",
    "    url = \"https://maps.amsterdam.nl/open_geodata/geojson_latlng.php?KAARTLAAG=CROWDSENSOREN&THEMA=lvma\"\n",
    "    return gpd.read_file(url)"
   ]
  },
  {
   "cell_type": "code",
   "execution_count": 18,
   "id": "ac739ea9",
   "metadata": {},
   "outputs": [],
   "source": [
    "crowd_sensor_gdf = load_crowd_sensor()"
   ]
  },
  {
   "cell_type": "code",
   "execution_count": null,
   "id": "6ca951ed",
   "metadata": {},
   "outputs": [],
   "source": []
  },
  {
   "cell_type": "code",
   "execution_count": null,
   "id": "2dc3275d",
   "metadata": {},
   "outputs": [
    {
     "ename": "TypeError",
     "evalue": "'module' object is not callable",
     "output_type": "error",
     "traceback": [
      "\u001b[31m---------------------------------------------------------------------------\u001b[39m",
      "\u001b[31mTypeError\u001b[39m                                 Traceback (most recent call last)",
      "\u001b[36mCell\u001b[39m\u001b[36m \u001b[39m\u001b[32mIn[20]\u001b[39m\u001b[32m, line 1\u001b[39m\n\u001b[32m----> \u001b[39m\u001b[32m1\u001b[39m m = \u001b[43mfolium\u001b[49m\u001b[43m.\u001b[49m\u001b[43mmap\u001b[49m\u001b[43m(\u001b[49m\u001b[43m)\u001b[49m\n",
      "\u001b[31mTypeError\u001b[39m: 'module' object is not callable"
     ]
    }
   ],
   "source": []
  },
  {
   "cell_type": "code",
   "execution_count": null,
   "id": "47fcbaac",
   "metadata": {},
   "outputs": [],
   "source": []
  }
 ],
 "metadata": {
  "kernelspec": {
   "display_name": "TIL6022-25",
   "language": "python",
   "name": "python3"
  },
  "language_info": {
   "codemirror_mode": {
    "name": "ipython",
    "version": 3
   },
   "file_extension": ".py",
   "mimetype": "text/x-python",
   "name": "python",
   "nbconvert_exporter": "python",
   "pygments_lexer": "ipython3",
   "version": "3.13.5"
  }
 },
 "nbformat": 4,
 "nbformat_minor": 5
}
